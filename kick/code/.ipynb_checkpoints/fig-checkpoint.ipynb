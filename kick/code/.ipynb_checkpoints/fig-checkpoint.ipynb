{
 "cells": [
  {
   "cell_type": "code",
   "execution_count": 125,
   "metadata": {},
   "outputs": [],
   "source": [
    "%matplotlib inline\n",
    "from scipy.optimize import curve_fit\n",
    "import matplotlib.pyplot as plt\n",
    "# print(plt.style.available)  # show available template\n",
    "plt.style.use(['seaborn-ticks','seaborn-paper'])  # use a templet\n",
    "\n",
    "import matplotlib as mpl\n",
    "# mpl.rcParams['lines.linewidth'] = 2\n",
    "# mpl.rcParams['lines.color'] = 'r'\n",
    "params = {\n",
    "    'figure.figsize': [8, 6], # Note! figure unit is inch!  scale fontz size 2.54 to looks like unit cm\n",
    "    'axes.labelsize': 10*2.54, # scale 2.54 to change to figure unit looks as cm\n",
    "    'font.size':  7*2.54,\n",
    "    'lines.linewidth':2,\n",
    "    'legend.fontsize': 8*2.54,\n",
    "    'xtick.labelsize': 8*2.54,\n",
    "    'ytick.labelsize': 6*2.54,\n",
    "    'text.usetex': False,  \n",
    "    'xtick.direction': \"in\",\n",
    "    'ytick.direction': \"in\", # ticket inside\n",
    "    'legend.frameon' : True, \n",
    "    'legend.edgecolor': 'black',\n",
    "    'legend.shadow': True,\n",
    "    'legend.framealpha':1,\n",
    "#     'patch.linewidth' : 0.5, \n",
    "}\n",
    "mpl.rcParams.update(params)\n",
    "mpl.rcParams.update(params)\n",
    "import numpy as np"
   ]
  },
  {
   "cell_type": "code",
   "execution_count": 7,
   "metadata": {},
   "outputs": [],
   "source": [
    "f = [0.75096949, 0.84749486, 0.89978349, 0.92989822, 0.94848623,\n",
    "       0.96065877, 0.96902428, 0.97500392, 0.97941853, 0.98276659,\n",
    "       0.98536402, 0.98741844, 0.98907067, 0.99041884, 0.99153299,\n",
    "       0.99246415, 0.99325019, 0.9939197 , 0.99449458, 0.99499181,\n",
    "       0.99542476, 0.99580401, 0.99613809, 0.99643388, 0.996697  ,\n",
    "       0.9969321 , 0.997143  , 0.99733291, 0.99750453, 0.99766013,\n",
    "       0.99780164, 0.9979307 , 0.99804875, 0.99815698, 0.99825647,\n",
    "       0.99834812, 0.99843274, 0.99851103, 0.9985836 , 0.998651  ,\n",
    "       0.9987137 , 0.99877214, 0.99882669, 0.99887769, 0.99892543,\n",
    "       0.9989702 , 0.99901222, 0.99905173, 0.99908892, 0.99912396,\n",
    "       0.99915702, 0.99918825, 0.99921777, 0.99924572, 0.99927219,\n",
    "       0.99929729, 0.99932112, 0.99934376, 0.99936528, 0.99938576,\n",
    "       0.99940527, 0.99942386, 0.9994416 , 0.99945853, 0.9994747 ,\n",
    "       0.99949015, 0.99950494, 0.99951909, 0.99953264, 0.99954563,\n",
    "       0.99955808, 0.99957003, 0.9995815 , 0.99959251, 0.9996031 ,\n",
    "       0.99961328, 0.99962307, 0.9996325 , 0.99964158, 0.99965032,\n",
    "       0.99965875, 0.99966687, 0.99967471, 0.99968228, 0.99968958,\n",
    "       0.99969664, 0.99970345, 0.99971004, 0.99971641, 0.99972258,\n",
    "       0.99972854, 0.99973432, 0.99973991, 0.99974532, 0.99975057,\n",
    "       0.99975566, 0.99976059, 0.99976538, 0.99977002, 0.99977453]\n",
    "tao = [0.56434786, 0.47036452, 0.40955292, 0.36588384, 0.33241072,\n",
    "       0.30583878, 0.2840519 , 0.26578582, 0.25025868, 0.2368223 ,\n",
    "       0.22506186, 0.21465306]\n",
    "p = [0.0001394651445725259,\n",
    " 0.00015708243117244655,\n",
    " 0.0005221168210293375,\n",
    " 0.0005249213844928935,\n",
    " 0.0005575077525994775,\n",
    " 0.0007305221201447415,\n",
    " 0.0008244531793706473,\n",
    " 0.0009080133612549002,\n",
    " 0.0010408394167522594,\n",
    " 0.0010482039518333597]\n",
    "p1 = [9.129491020497352e-05,\n",
    " 0.00020369254983836066,\n",
    " 0.0004353642953244252,\n",
    " 0.0005510490828068025,\n",
    " 0.000588817160067621,\n",
    " 0.0006541807506955855,\n",
    " 0.0009939967993850551,\n",
    " 0.0014265821176313587,\n",
    " 0.001454019927007777,\n",
    " 0.0014950078063995509]\n",
    "x0 = [0.07037424, 0.19898876, 0.23524384]\n",
    "x1 = [0.07063919, 0.19967419, 0.23616219]"
   ]
  },
  {
   "cell_type": "code",
   "execution_count": 5,
   "metadata": {},
   "outputs": [],
   "source": [
    "def draw(z_list,zz_list,t_list,tt_list,v):\n",
    "#     ax = plt.axes()\n",
    "    plt.xlim(-11,11)\n",
    "    plt.ylim(-11,11)\n",
    "    N = len(z_list)\n",
    "    T_list =  np.append([-t for t in t_list[::-1]],t_list)\n",
    "    TT_list =  np.append([-t for t in tt_list[::-1]],tt_list)\n",
    "    x = 0\n",
    "    y = 0\n",
    "    X = 0\n",
    "    Y = 0\n",
    "    dx = 0\n",
    "    dy = z_list[0]\n",
    "    Dx = zz_list[0] * np.sin(2*np.pi*z_list[0]*v*0.0002)\n",
    "    Dy = zz_list[0] * np.cos(2*np.pi*z_list[0]*v*0.0002)\n",
    "    theta = 0\n",
    "    Theta = 0\n",
    "    plt.arrow(x, y, dx, dy,head_width=0.3, head_length=0.3, fc='r', ec='r',width=0.15)\n",
    "    plt.arrow(X, Y, Dx, Dy,head_width=0.3, head_length=0.3, fc='b', ec='b',width=0.15,ls='--')\n",
    "    for i in range(N-1):\n",
    "        x = x + dx\n",
    "        y = y + dy\n",
    "        X = X + Dx\n",
    "        Y = Y + Dy\n",
    "        dt = T_list[i+1] - T_list[i]\n",
    "        Dt = TT_list[i+1] - TT_list[i]\n",
    "        theta = theta + 2*np.pi*dt*v\n",
    "        Theta = Theta + 2*np.pi*Dt*v\n",
    "        dx = z_list[i+1] * np.sin(theta)\n",
    "        dy = z_list[i+1] * np.cos(theta)\n",
    "        Dx = zz_list[i+1] * np.sin(Theta)\n",
    "        Dy = zz_list[i+1] * np.cos(Theta)\n",
    "        plt.arrow(x, y, dx, dy,head_width=0.4, head_length=0.4, fc='r', ec='r',width=0.15)\n",
    "        plt.arrow(X, Y, Dx, Dy,head_width=0.4, head_length=0.4, fc='b', ec='b',width=0.15,ls='--')"
   ]
  },
  {
   "cell_type": "code",
   "execution_count": 126,
   "metadata": {},
   "outputs": [
    {
     "data": {
      "text/plain": [
       "[<matplotlib.patches.Polygon at 0x101caa6150>]"
      ]
     },
     "execution_count": 126,
     "metadata": {},
     "output_type": "execute_result"
    },
    {
     "data": {
      "image/png": "[encoded data removed]",
      "text/plain": [
       "<Figure size 576x216 with 1 Axes>"
      ]
     },
     "metadata": {},
     "output_type": "display_data"
    }
   ],
   "source": [
    "plt.figure(figsize=(8,3))\n",
    "plt.tick_params(axis='y', which='both', right=False, left=False, labelleft=False)\n",
    "for pos in ['right', 'top', 'left']:\n",
    "#     plt.gca().spines[pos].set_visible(False)\n",
    "    plt.gca().spines[pos].set_color('#dddddd')\n",
    "plt.gca().spines['bottom'].set_linewidth(4)\n",
    "plt.ylim(0,0.5)\n",
    "plt.xlim(-3,3)\n",
    "plt.xticks([-2.4, -1.8 ,-0.8, 0.8, 1.8, 2.4],(r'$-t_3$',r'$-t_2$',r'$-t_1$',r'$t_1$',r'$t_2$',r'$t_3$'))\n",
    "x1=np.linspace(-2.6,-2.4,100)\n",
    "y1=0.2*np.cos(np.pi*(x1+2.5)/0.1)\n",
    "plt.fill(x1,y1,color='#32bab5')\n",
    "x2=np.linspace(-2.1,-1.8,100)\n",
    "y2=0.3*np.cos(np.pi*(x2+1.95)/0.15)\n",
    "plt.fill(x2,y2,color='#3F51B5')\n",
    "x3=np.linspace(-1,-0.8,100)\n",
    "y3=0.2*np.cos(np.pi*(x3+0.9)/0.1)\n",
    "plt.fill(x3,y3,color='#32bab5')\n",
    "x4=np.linspace(0.6,0.8,100)\n",
    "y4=0.2*np.cos(np.pi*(x4-0.7)/0.1)\n",
    "plt.fill(x4,y4,color='#3F51B5')\n",
    "x5=np.linspace(1.5,1.8,100)\n",
    "y5=0.3*np.cos(np.pi*(x5-1.65)/0.15)\n",
    "plt.fill(x5,y5,color='#32bab5')\n",
    "x6=np.linspace(2.3,2.5,100)\n",
    "y6=0.2*np.cos(np.pi*(x4-2.4)/0.1)\n",
    "plt.fill(x6,y6,color='#3F51B5')"
   ]
  },
  {
   "cell_type": "code",
   "execution_count": 110,
   "metadata": {},
   "outputs": [
    {
     "data": {
      "text/plain": [
       "11.471969781997199"
      ]
     },
     "execution_count": 110,
     "metadata": {},
     "output_type": "execute_result"
    }
   ],
   "source": [
    "12*np.exp(-2*(-1.95+1.8)**2)"
   ]
  },
  {
   "cell_type": "code",
   "execution_count": 107,
   "metadata": {},
   "outputs": [],
   "source": [
    "x2=np.linspace(-1.95,-1.65,100)\n",
    "y2=12*np.exp(-2*(x2+1.8)**2)-1.7359848909985995*2"
   ]
  },
  {
   "cell_type": "code",
   "execution_count": 108,
   "metadata": {},
   "outputs": [
    {
     "data": {
      "text/plain": [
       "[<matplotlib.lines.Line2D at 0x101ba3f850>]"
      ]
     },
     "execution_count": 108,
     "metadata": {},
     "output_type": "execute_result"
    },
    {
     "data": {
      "image/png": "[encoded data removed]",
      "text/plain": [
       "<Figure size 576x432 with 1 Axes>"
      ]
     },
     "metadata": {},
     "output_type": "display_data"
    }
   ],
   "source": [
    "plt.plot(x2,y2)"
   ]
  },
  {
   "cell_type": "code",
   "execution_count": null,
   "metadata": {},
   "outputs": [],
   "source": []
  }
 ],
 "metadata": {
  "kernelspec": {
   "display_name": "Python 3",
   "language": "python",
   "name": "python3"
  },
  "language_info": {
   "codemirror_mode": {
    "name": "ipython",
    "version": 3
   },
   "file_extension": ".py",
   "mimetype": "text/x-python",
   "name": "python",
   "nbconvert_exporter": "python",
   "pygments_lexer": "ipython3",
   "version": "3.7.4"
  }
 },
 "nbformat": 4,
 "nbformat_minor": 2
}
