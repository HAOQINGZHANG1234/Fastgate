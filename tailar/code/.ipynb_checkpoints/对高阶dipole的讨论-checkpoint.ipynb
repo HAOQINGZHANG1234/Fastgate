{
 "cells": [
  {
   "cell_type": "code",
   "execution_count": 45,
   "metadata": {},
   "outputs": [],
   "source": [
    "%matplotlib inline\n",
    "\n",
    "import matplotlib.pyplot as plt\n",
    "# print(plt.style.available)  # show available template\n",
    "plt.style.use(['seaborn-ticks','seaborn-paper'])  # use a templet\n",
    "\n",
    "import matplotlib as mpl\n",
    "# mpl.rcParams['lines.linewidth'] = 2\n",
    "# mpl.rcParams['lines.color'] = 'r'\n",
    "params = {\n",
    "    'figure.figsize': [8, 6], # Note! figure unit is inch!  scale fontz size 2.54 to looks like unit cm\n",
    "    'axes.labelsize': 7*2.54, # scale 2.54 to change to figure unit looks as cm\n",
    "    'font.size':  7*2.54,\n",
    "    'lines.linewidth':2,\n",
    "    'legend.fontsize': 7*2.54,\n",
    "    'xtick.labelsize': 6*2.54,\n",
    "    'ytick.labelsize': 6*2.54,\n",
    "    'text.usetex': False,  \n",
    "    'xtick.direction': \"in\",\n",
    "    'ytick.direction': \"in\", # ticket inside\n",
    "    'legend.frameon' : True, \n",
    "    'legend.edgecolor': 'black',\n",
    "    'legend.shadow': True,\n",
    "    'legend.framealpha':1,\n",
    "#     'patch.linewidth' : 0.5, \n",
    "}\n",
    "mpl.rcParams.update(params)"
   ]
  },
  {
   "cell_type": "code",
   "execution_count": 15,
   "metadata": {},
   "outputs": [],
   "source": [
    "from sympy import *\n",
    "init_printing()\n",
    "from scipy.constants import c as c0\n",
    "from scipy.constants import m_p\n",
    "from scipy.constants import hbar as h\n",
    "import numpy as np\n",
    "\n",
    "m,c,omega0,Gamma,Delta,delta, Is, If, w0, hbar, wavelen, w, Pf, Ps = symbols('m, c, \\omega_0, \\Gamma,\\Delta,\\delta, I_s, I_f , \\sigma,\\hbar,\\lambda,w,P_f,P_s ')\n",
    "# omega0, 共振角频率\n",
    "# w0     激光的半峰宽"
   ]
  },
  {
   "cell_type": "code",
   "execution_count": 3,
   "metadata": {},
   "outputs": [
    {
     "data": {
      "image/png": "[encoded data removed]",
      "text/latex": [
       "$\\displaystyle \\frac{\\pi I_{f} \\Gamma c^{2}}{\\Delta \\omega_0^{3}}$"
      ],
      "text/plain": [
       "              2\n",
       "π⋅I_f⋅\\Gamma⋅c \n",
       "───────────────\n",
       "              3\n",
       "\\Delta⋅\\omega₀ "
      ]
     },
     "execution_count": 3,
     "metadata": {},
     "output_type": "execute_result"
    }
   ],
   "source": [
    "# foucs 场，提供局域tailor 势能\n",
    "U_dip_f = pi*c**2*Gamma*If/(omega0**3*Delta)\n",
    "U_dip_f "
   ]
  },
  {
   "cell_type": "code",
   "execution_count": 4,
   "metadata": {},
   "outputs": [
    {
     "data": {
      "image/png": "[encoded data removed]",
      "text/latex": [
       "$\\displaystyle \\frac{2 P_{f} \\Gamma c^{2}}{\\Delta \\omega_0^{3} \\sigma^{2}}$"
      ],
      "text/plain": [
       "                  2    \n",
       "    2⋅P_f⋅\\Gamma⋅c     \n",
       "───────────────────────\n",
       "              3       2\n",
       "\\Delta⋅\\omega₀ ⋅\\sigma "
      ]
     },
     "execution_count": 4,
     "metadata": {},
     "output_type": "execute_result"
    }
   ],
   "source": [
    "I_f = 2*Pf/(pi*w0**2)\n",
    "U_f = U_dip_f.subs({If:I_f})\n",
    "U_f"
   ]
  },
  {
   "cell_type": "code",
   "execution_count": 5,
   "metadata": {},
   "outputs": [
    {
     "data": {
      "image/png": "[encoded data removed]",
      "text/latex": [
       "$\\displaystyle 2 \\sqrt{2} \\sqrt{\\frac{P_{f} \\Gamma c^{2}}{\\Delta \\omega_0^{3} \\sigma^{4} m}}$"
      ],
      "text/plain": [
       "           ___________________________\n",
       "          ╱                   2       \n",
       "         ╱        P_f⋅\\Gamma⋅c        \n",
       "2⋅√2⋅   ╱   ───────────────────────── \n",
       "       ╱                  3       4   \n",
       "     ╲╱     \\Delta⋅\\omega₀ ⋅\\sigma ⋅m "
      ]
     },
     "execution_count": 5,
     "metadata": {},
     "output_type": "execute_result"
    }
   ],
   "source": [
    "W_f = sqrt(4*U_f/(m*w0**2))\n",
    "W_f"
   ]
  },
  {
   "cell_type": "code",
   "execution_count": 6,
   "metadata": {},
   "outputs": [
    {
     "data": {
      "image/png": "[encoded data removed]",
      "text/latex": [
       "$\\displaystyle \\frac{\\pi I_{s} \\Gamma c^{2}}{\\Delta \\omega_0^{3}}$"
      ],
      "text/plain": [
       "              2\n",
       " π⋅Iₛ⋅\\Gamma⋅c \n",
       "───────────────\n",
       "              3\n",
       "\\Delta⋅\\omega₀ "
      ]
     },
     "execution_count": 6,
     "metadata": {},
     "output_type": "execute_result"
    }
   ],
   "source": [
    "# standing wave 场，用于提供spin-dependent force\n",
    "U_dip_s = pi*c**2*Gamma*Is/(omega0**3*Delta)\n",
    "U_dip_s "
   ]
  },
  {
   "cell_type": "code",
   "execution_count": 7,
   "metadata": {},
   "outputs": [
    {
     "data": {
      "image/png": "[encoded data removed]",
      "text/latex": [
       "$\\displaystyle \\frac{\\pi I_{s} \\Gamma \\delta c^{2}}{4 \\Delta^{2} \\hbar \\omega_0^{3}}$"
      ],
      "text/plain": [
       "                    2 \n",
       "π⋅Iₛ⋅\\Gamma⋅\\delta⋅c  \n",
       "──────────────────────\n",
       "        2            3\n",
       "4⋅\\Delta ⋅\\h̅⋅\\omega₀ "
      ]
     },
     "execution_count": 7,
     "metadata": {},
     "output_type": "execute_result"
    }
   ],
   "source": [
    "Omega_dip_s = pi*c**2*Gamma*Is*delta/(4*omega0**3*Delta**2*hbar)\n",
    "Omega_dip_s"
   ]
  },
  {
   "cell_type": "code",
   "execution_count": 8,
   "metadata": {},
   "outputs": [
    {
     "data": {
      "image/png": "[encoded data removed]",
      "text/latex": [
       "$\\displaystyle \\frac{P_{s} \\Gamma \\delta c^{2}}{2 \\Delta^{2} \\hbar \\omega_0^{3} \\sigma^{2}}$"
      ],
      "text/plain": [
       "                       2      \n",
       "     Pₛ⋅\\Gamma⋅\\delta⋅c       \n",
       "──────────────────────────────\n",
       "        2            3       2\n",
       "2⋅\\Delta ⋅\\h̅⋅\\omega₀ ⋅\\sigma "
      ]
     },
     "execution_count": 8,
     "metadata": {},
     "output_type": "execute_result"
    }
   ],
   "source": [
    "I_s = 2*Ps/(pi*w0**2)\n",
    "U_s = U_dip_s.subs({Is:I_s})\n",
    "Omega_s = Omega_dip_s.subs({Is:I_s})\n",
    "Omega_s"
   ]
  },
  {
   "cell_type": "code",
   "execution_count": 9,
   "metadata": {},
   "outputs": [
    {
     "data": {
      "image/png": "[encoded data removed]",
      "text/latex": [
       "$\\displaystyle \\frac{4 \\pi \\sqrt{\\frac{P_{s} \\Gamma c^{2}}{\\Delta \\omega_0^{3} \\sigma^{2} m}}}{\\lambda}$"
      ],
      "text/plain": [
       "          ___________________________\n",
       "         ╱                   2       \n",
       "        ╱         Pₛ⋅\\Gamma⋅c        \n",
       "4⋅π⋅   ╱   ───────────────────────── \n",
       "      ╱                  3       2   \n",
       "    ╲╱     \\Delta⋅\\omega₀ ⋅\\sigma ⋅m \n",
       "─────────────────────────────────────\n",
       "               \\lambda               "
      ]
     },
     "execution_count": 9,
     "metadata": {},
     "output_type": "execute_result"
    }
   ],
   "source": [
    "W_s = 2*pi/wavelen*sqrt(2*U_s/(m))\n",
    "W_s"
   ]
  },
  {
   "cell_type": "code",
   "execution_count": 28,
   "metadata": {},
   "outputs": [
    {
     "name": "stdout",
     "output_type": "stream",
     "text": [
      "12.8479344853350\n",
      "0.875160217145379\n"
     ]
    },
    {
     "data": {
      "image/png": "[encoded data removed]",
      "text/latex": [
       "$\\displaystyle 1.30518699533562$"
      ],
      "text/plain": [
       "1.30518699533562"
      ]
     },
     "execution_count": 28,
     "metadata": {},
     "output_type": "execute_result"
    }
   ],
   "source": [
    "paras={\n",
    "    Gamma: 20e6*2*pi,\n",
    "    omega0: 2*pi*c/(0.369e-6),\n",
    "    Delta: 2*pi*200e9,\n",
    "    w0:    0.5e-6,\n",
    "    m:     171*m_p,\n",
    "    Pf:     1e-3,\n",
    "    Ps:     1e-3,\n",
    "    delta: 2*pi*12.6e9,\n",
    "    c:  c0,\n",
    "    wavelen: (0.369e-6),\n",
    "    delta:   2*pi*12.6e9,\n",
    "    hbar: h\n",
    "}\n",
    "\n",
    "Omega_S = N(Omega_s.subs(paras)/(2*pi))\n",
    "print(Omega_S/1e6)\n",
    "\n",
    "V_f = N(W_f.subs(paras)/(2*pi))\n",
    "print(V_f/1e6)\n",
    "\n",
    "w_f = N((W_f**2*m).subs(paras))\n",
    "\n",
    "w_f/10e12/h/2/np.pi/1e9"
   ]
  },
  {
   "cell_type": "markdown",
   "metadata": {},
   "source": [
    "## 计算的离子, dipole的强度为0.875 MHz, 光束的束腰半径为0.5$\\ \\mu$m"
   ]
  },
  {
   "cell_type": "code",
   "execution_count": 108,
   "metadata": {},
   "outputs": [
    {
     "data": {
      "text/plain": [
       "<matplotlib.legend.Legend at 0x1236c2790>"
      ]
     },
     "execution_count": 108,
     "metadata": {},
     "output_type": "execute_result"
    },
    {
     "data": {
      "image/png": "[encoded data removed]",
      "text/plain": [
       "<Figure size 576x432 with 1 Axes>"
      ]
     },
     "metadata": {},
     "output_type": "display_data"
    }
   ],
   "source": [
    "def f_1(x):\n",
    "    return (x)**2\n",
    "def f_2(x):\n",
    "    return (x)**2-1/2*(x)**4\n",
    "def f_3(x):\n",
    "    return 1-np.exp(-(x)**2)\n",
    "r = np.linspace(0,1,100)\n",
    "plt.xlim(0,1)\n",
    "plt.plot(r, f_1(r), label='Quadratic')\n",
    "plt.plot(r, f_2(r), label='Quartic')\n",
    "plt.plot(r, f_3(r), label='Gauss')\n",
    "plt.ylabel('Trap potential (GHz)')\n",
    "plt.xlabel('Radius ('+r'$\\mu$'+'m)')\n",
    "plt.legend(frameon=False)\n"
   ]
  },
  {
   "cell_type": "code",
   "execution_count": null,
   "metadata": {},
   "outputs": [],
   "source": []
  }
 ],
 "metadata": {
  "kernelspec": {
   "display_name": "Python 3",
   "language": "python",
   "name": "python3"
  },
  "language_info": {
   "codemirror_mode": {
    "name": "ipython",
    "version": 3
   },
   "file_extension": ".py",
   "mimetype": "text/x-python",
   "name": "python",
   "nbconvert_exporter": "python",
   "pygments_lexer": "ipython3",
   "version": "3.7.4"
  }
 },
 "nbformat": 4,
 "nbformat_minor": 2
}
