{
 "cells": [
  {
   "cell_type": "markdown",
   "metadata": {},
   "source": [
    "# 运动模式"
   ]
  },
  {
   "cell_type": "markdown",
   "metadata": {},
   "source": [
    "## 求解平衡位置"
   ]
  },
  {
   "cell_type": "markdown",
   "metadata": {},
   "source": [
    "$u_{j}-\\sum_{n=1}^{j-1}1/(u_{j}-u_{n})^{2}+\\sum_{n=j+1}^{N}1/(u_{j}-u_{n})^{2}=0,$\n",
    "$u_{n}\\equiv z_{n}^{0}/\\ell$ $(n=1,2,\\dots,N),$\n",
    "where $\\ell\\equiv\\sqrt[3]{e^{2}/4\\pi\\epsilon_{0}M\\omega_{z}^{2}}$"
   ]
  },
  {
   "cell_type": "code",
   "execution_count": 6,
   "metadata": {},
   "outputs": [
    {
     "name": "stdout",
     "output_type": "stream",
     "text": [
      "[-1.43680199 -0.45437928  0.45437928  1.43680199]\n"
     ]
    }
   ],
   "source": [
    "import numpy as np\n",
    "from scipy.optimize import fsolve\n",
    "%matplotlib inline\n",
    "import matplotlib.pyplot as plt\n",
    "def position(x):\n",
    "    n = len(x)\n",
    "    e = np.zeros(n) #n个平衡方程\n",
    "    for i in range(1,n-1):\n",
    "        for j in range(0,i):\n",
    "            e[i] = e[i] - 1/(x[i]-x[j])**2\n",
    "        for k in range(i+1,n):\n",
    "            e[i] = e[i] + 1/(x[i]-x[k])**2\n",
    "        e[i] = e[i] + x[i]\n",
    "    for i in range(1,n):\n",
    "        e[0] = e[0] + 1/(x[0]-x[i])**2\n",
    "    e[0] = e[0] + x[0]\n",
    "    for i in range(0,n-1):\n",
    "        e[n-1] = e[n-1] - 1/(x[n-1]-x[i])**2\n",
    "    e[n-1] = e[n-1] + x[n-1]    \n",
    "    return(np.array(e))\n",
    "result = fsolve(position, [0,1,2,3])\n",
    "print(result)"
   ]
  },
  {
   "cell_type": "markdown",
   "metadata": {},
   "source": [
    "## 径向运动模式"
   ]
  },
  {
   "cell_type": "markdown",
   "metadata": {},
   "source": [
    "$\\begin{equation}\n",
    "\\A_{nj}^{\\xi}=left\\{ \\begin{array}{ll}\n",
    "\\beta_{\\xi}^{2}+\\sum\\limits _{p=1,p\\not=j}^{N}a_{\\xi}/|u_{j}-u_{p}|^{3} & (n=j)\\\\\n",
    "-a_{\\xi}/|u_{j}-u_{n}|^{3} & (n\\not=j),\n",
    "\\end{array}\\right.\n",
    "\\end{equation}$\n",
    "with $\\beta_{\\xi}=\\omega_{\\xi}/\\omega_{z}$, $a_{x}=a_{y}=-1$, and\n",
    "$a_{z}=2$ "
   ]
  },
  {
   "cell_type": "code",
   "execution_count": 71,
   "metadata": {},
   "outputs": [],
   "source": [
    "# 求解径向频率分布\n",
    "def Frequence_rr(n,m1,m2,b,b1,b2):  # b为w_r/w_z\n",
    "#     A_z = np.zeros((n,n)) #展开矩阵\n",
    "    A_r = np.zeros((n,n))\n",
    "    u = fsolve(position, np.linspace(0,n-1,n))\n",
    "    for i in range(0,n):\n",
    "        for j in range(0,n):\n",
    "            if i != j:\n",
    "#                 A_z[i][j] = -2/abs(u[i]-u[j])**3\n",
    "#                 A_z[i][i] = A_z[i][i] + 2/abs(u[i]-u[j])**3\n",
    "                A_r[i][j] = 1/abs(u[i]-u[j])**3\n",
    "                A_r[i][i] = A_r[i][i] - 1/abs(u[i]-u[j])**3\n",
    "#         A_z[i][i] = A_z[i][i] + 1\n",
    "        A_r[i][i] = A_r[i][i] + b**2\n",
    "#     A_z[m1][m1] = A_z[m1][m1] + b1**2\n",
    "    A_r[m1][m1] = A_r[m1][m1] + b1**2 \n",
    "#     A_z[m2][m2] = A_z[m2][m2] + b3**2\n",
    "    A_r[m2][m2] = A_r[m2][m2] + b2**2 \n",
    "#     a_z,b_z = np.linalg.eig(A_z)\n",
    "    a_r,b_r = np.linalg.eig(A_r)\n",
    "    return a_r,b_r\n"
   ]
  },
  {
   "cell_type": "code",
   "execution_count": 8,
   "metadata": {},
   "outputs": [
    {
     "data": {
      "application/vnd.jupyter.widget-view+json": {
       "model_id": "ed2326a6bfe94530b953a8dacaea07fc",
       "version_major": 2,
       "version_minor": 0
      },
      "text/plain": [
       "interactive(children=(FloatSlider(value=5.0, description='t', min=5.0), FloatSlider(value=5.0, description='b'…"
      ]
     },
     "metadata": {},
     "output_type": "display_data"
    }
   ],
   "source": [
    "from ipywidgets import interact, interactive, fixed, interact_manual \n",
    "import ipywidgets as widgets \n",
    "\n",
    "def plot_func(t,b):\n",
    "    F = Frequence_rr(10,b,4,5,t,t,t,t)\n",
    "    plt.plot(np.sqrt(F[2]),'o')\n",
    "    plt.ylim(0,50)\n",
    "    \n",
    "interact(plot_func, t = widgets.FloatSlider(value=5, \n",
    "               min=5, \n",
    "               max=100, \n",
    "               step=0.1),b = widgets.FloatSlider(value=5, \n",
    "               min=0, \n",
    "               max=50), \n",
    "               step=0.1)\n",
    "plt.show()"
   ]
  },
  {
   "cell_type": "markdown",
   "metadata": {},
   "source": [
    "# Dipole Trap 参数估算"
   ]
  },
  {
   "cell_type": "code",
   "execution_count": 1,
   "metadata": {},
   "outputs": [],
   "source": [
    "from sympy import *\n",
    "init_printing()\n",
    "from scipy.constants import c as c0\n",
    "from scipy.constants import m_p\n",
    "from scipy.constants import hbar as h\n",
    "\n",
    "m,c,omega0,Gamma,Delta,delta, I, w0,hbar,wavelen,w,P = symbols('m, c, \\omega_0, \\Gamma,\\Delta,\\delta, I, w_0,\\hbar,\\lambda,w,P ')\n",
    "# omega0, 共振角频率\n",
    "# w0     激光的半峰宽"
   ]
  },
  {
   "cell_type": "markdown",
   "metadata": {},
   "source": [
    "## Dipole 深度"
   ]
  },
  {
   "cell_type": "code",
   "execution_count": 2,
   "metadata": {},
   "outputs": [
    {
     "data": {
      "image/png": "[encoded data removed]",
      "text/latex": [
       "$$\\frac{3 \\pi I \\Gamma c^{2}}{2 \\Delta \\omega_0^{3}}$$"
      ],
      "text/plain": [
       "               2 \n",
       " 3⋅π⋅I⋅\\Gamma⋅c  \n",
       "─────────────────\n",
       "                3\n",
       "2⋅\\Delta⋅\\omega₀ "
      ]
     },
     "execution_count": 2,
     "metadata": {},
     "output_type": "execute_result"
    }
   ],
   "source": [
    "U_dip = 3*pi*c**2*Gamma*I/(2*omega0**3*Delta)\n",
    "U_dip"
   ]
  },
  {
   "cell_type": "code",
   "execution_count": 3,
   "metadata": {},
   "outputs": [
    {
     "data": {
      "image/png": "[encoded data removed]",
      "text/latex": [
       "$$\\frac{3 P \\Gamma c^{2}}{\\Delta \\omega_0^{3} w_{0}^{2}}$$"
      ],
      "text/plain": [
       "               2   \n",
       "   3⋅P⋅\\Gamma⋅c    \n",
       "───────────────────\n",
       "              3   2\n",
       "\\Delta⋅\\omega₀ ⋅w₀ "
      ]
     },
     "execution_count": 3,
     "metadata": {},
     "output_type": "execute_result"
    }
   ],
   "source": [
    "I_0 = 2*P/(pi*w0**2)\n",
    "U_0 = U_dip.subs({I:I_0})\n",
    "U_0"
   ]
  },
  {
   "cell_type": "code",
   "execution_count": 4,
   "metadata": {},
   "outputs": [
    {
     "data": {
      "image/png": "[encoded data removed]",
      "text/latex": [
       "$$2 \\sqrt{3} \\sqrt{\\frac{P \\Gamma c^{2}}{\\Delta \\omega_0^{3} m w_{0}^{4}}}$$"
      ],
      "text/plain": [
       "           _______________________\n",
       "          ╱                2      \n",
       "         ╱       P⋅\\Gamma⋅c       \n",
       "2⋅√3⋅   ╱   ───────────────────── \n",
       "       ╱                  3     4 \n",
       "     ╲╱     \\Delta⋅\\omega₀ ⋅m⋅w₀  "
      ]
     },
     "execution_count": 4,
     "metadata": {},
     "output_type": "execute_result"
    }
   ],
   "source": [
    "W_z = sqrt(4*U_0/(m*w0**2))\n",
    "W_z"
   ]
  },
  {
   "cell_type": "code",
   "execution_count": 5,
   "metadata": {},
   "outputs": [
    {
     "data": {
      "image/png": "[encoded data removed]",
      "text/latex": [
       "$$\\frac{\\pi w_{0}^{2}}{\\lambda}$$"
      ],
      "text/plain": [
       "     2 \n",
       " π⋅w₀  \n",
       "───────\n",
       "\\lambda"
      ]
     },
     "execution_count": 5,
     "metadata": {},
     "output_type": "execute_result"
    }
   ],
   "source": [
    "Z_R = pi*(w0)**2/wavelen\n",
    "Z_R"
   ]
  },
  {
   "cell_type": "code",
   "execution_count": 6,
   "metadata": {},
   "outputs": [
    {
     "data": {
      "image/png": "[encoded data removed]",
      "text/latex": [
       "$$\\frac{2 \\pi}{\\lambda} \\sqrt{6} \\sqrt{\\frac{P \\Gamma c^{2}}{\\Delta \\omega_0^{3} m w_{0}^{2}}}$$"
      ],
      "text/plain": [
       "             _______________________\n",
       "            ╱                2      \n",
       "           ╱       P⋅\\Gamma⋅c       \n",
       "2⋅√6⋅π⋅   ╱   ───────────────────── \n",
       "         ╱                  3     2 \n",
       "       ╲╱     \\Delta⋅\\omega₀ ⋅m⋅w₀  \n",
       "────────────────────────────────────\n",
       "              \\lambda               "
      ]
     },
     "execution_count": 6,
     "metadata": {},
     "output_type": "execute_result"
    }
   ],
   "source": [
    "W_x = 2*pi/wavelen*sqrt(2*U_0/(m))\n",
    "W_x"
   ]
  },
  {
   "cell_type": "code",
   "execution_count": 17,
   "metadata": {},
   "outputs": [
    {
     "name": "stdout",
     "output_type": "stream",
     "text": [
      "6.45270343683483\n",
      "1.07184798759475\n",
      "7509033719.28536/pi**3\n"
     ]
    }
   ],
   "source": [
    "paras={\n",
    "    Gamma: 20e6*2*pi,\n",
    "    omega0: 2*pi*c/(0.369e-6),\n",
    "    Delta: 2*pi*200e9,\n",
    "    w0:    0.5e-6,\n",
    "    m:     171*m_p,\n",
    "    P:     1e-3,\n",
    "    delta: 2*pi*12.6e9,\n",
    "    c:  c0,\n",
    "    wavelen: (0.369e-6),\n",
    "    delta: 2*pi*12.6e9,\n",
    "    hbar: h\n",
    "}\n",
    "\n",
    "V_x = N(W_x.subs(paras)/(2*pi))\n",
    "print(V_x/1e6)\n",
    "\n",
    "V_z = N(W_z.subs(paras)/(2*pi))\n",
    "print(V_z/1e6)\n",
    "\n",
    "print(N(U_0 * delta/(2*Delta*hbar)).subs(paras))"
   ]
  },
  {
   "cell_type": "code",
   "execution_count": 22,
   "metadata": {},
   "outputs": [
    {
     "data": {
      "image/png": "[encoded data removed]",
      "text/latex": [
       "$$3.8622062879245966$$"
      ],
      "text/plain": [
       "3.8622062879245966"
      ]
     },
     "execution_count": 22,
     "metadata": {},
     "output_type": "execute_result"
    }
   ],
   "source": [
    "7509033719.28536/3.14**3/2/3.14/1e7"
   ]
  },
  {
   "cell_type": "code",
   "execution_count": 8,
   "metadata": {},
   "outputs": [
    {
     "data": {
      "image/png": "[encoded data removed]",
      "text/latex": [
       "$$462.3912770991269$$"
      ],
      "text/plain": [
       "462.3912770991269"
      ]
     },
     "execution_count": 8,
     "metadata": {},
     "output_type": "execute_result"
    }
   ],
   "source": [
    "c_lamb = 2*(2*pi/wavelen)*sqrt(hbar/(2*m))\n",
    "c_lamb = float(N(c_lamb.subs(paras)))\n",
    "c_lamb\n",
    "## yeta = c_lamb/sqrt(w)"
   ]
  },
  {
   "cell_type": "code",
   "execution_count": 9,
   "metadata": {},
   "outputs": [
    {
     "data": {
      "image/png": "[encoded data removed]",
      "text/latex": [
       "$$\\frac{\\delta \\lambda^{2} m}{16 \\pi^{2} \\Delta \\hbar}$$"
      ],
      "text/plain": [
       "              2  \n",
       "\\delta⋅\\lambda ⋅m\n",
       "─────────────────\n",
       "     2           \n",
       " 16⋅π ⋅\\Delta⋅\\h̅"
      ]
     },
     "execution_count": 9,
     "metadata": {},
     "output_type": "execute_result"
    }
   ],
   "source": [
    "omega_j = U_0 * delta/(2*Delta*hbar)\n",
    "omega_j/W_x**2"
   ]
  },
  {
   "cell_type": "code",
   "execution_count": 16,
   "metadata": {},
   "outputs": [
    {
     "data": {
      "image/png": "[encoded data removed]",
      "text/latex": [
       "$$2.419323740909454$$"
      ],
      "text/plain": [
       "2.419323740909454"
      ]
     },
     "execution_count": 16,
     "metadata": {},
     "output_type": "execute_result"
    }
   ],
   "source": [
    "c_rabi = omega_j/W_x**2\n",
    "## Rabi = c_rabi * W_x**2\n",
    "c_rabi = float(N(c_rabi.subs(paras)))\n",
    "c_rabi*(6.45270343683483*2*3.14*1e6)**2/1e8"
   ]
  },
  {
   "cell_type": "code",
   "execution_count": 1079,
   "metadata": {},
   "outputs": [
    {
     "data": {
      "image/png": "[encoded data removed]",
      "text/latex": [
       "$$1282099036.9248302$$"
      ],
      "text/plain": [
       "1282099036.9248302"
      ]
     },
     "execution_count": 1079,
     "metadata": {},
     "output_type": "execute_result"
    }
   ],
   "source": [
    "c_optic = W_x/sqrt(P)\n",
    "c_optic = float(N(c_optic.subs(paras)))\n",
    "c_optic "
   ]
  },
  {
   "cell_type": "markdown",
   "metadata": {},
   "source": [
    "# 计算保真度"
   ]
  },
  {
   "cell_type": "code",
   "execution_count": 659,
   "metadata": {},
   "outputs": [
    {
     "data": {
      "image/png": "[encoded data removed]",
      "text/latex": [
       "$$0.09950083263923602$$"
      ],
      "text/plain": [
       "0.09950083263923602"
      ]
     },
     "execution_count": 659,
     "metadata": {},
     "output_type": "execute_result"
    }
   ],
   "source": [
    "from scipy.special import jn\n",
    "jn(1,0.2)  #jn(n, x)"
   ]
  },
  {
   "cell_type": "code",
   "execution_count": 75,
   "metadata": {},
   "outputs": [
    {
     "name": "stdout",
     "output_type": "stream",
     "text": [
      "0.781917175280174\n"
     ]
    }
   ],
   "source": [
    "from sympy import *\n",
    "from scipy.integrate import tplquad,dblquad,quad\n",
    "\n",
    "x = symbols('x')\n",
    "t = symbols('t')\n",
    "b=1\n",
    "j = integrate(sin(x)*sin(b*sin(x)), (x, 1, 2)).evalf()\n",
    "print(j)\n"
   ]
  },
  {
   "cell_type": "markdown",
   "metadata": {},
   "source": [
    "### 数值积分"
   ]
  },
  {
   "cell_type": "code",
   "execution_count": 172,
   "metadata": {},
   "outputs": [
    {
     "data": {
      "image/png": "[encoded data removed]",
      "text/latex": [
       "$$0.3254081130270593$$"
      ],
      "text/plain": [
       "0.3254081130270593"
      ]
     },
     "execution_count": 172,
     "metadata": {},
     "output_type": "execute_result"
    }
   ],
   "source": [
    "def int_1(w,b,u,tao):\n",
    "    jf,err = quad(lambda t:np.sin(w*t)*np.sin(b*np.sin(u*t)),#函数\n",
    "               0,#x下界0\n",
    "               tao) \n",
    "    return jf\n",
    "def int_2(w,b,u,tao):\n",
    "    jf,err = quad(lambda t:np.cos(w*t)*np.sin(b*np.sin(u*t)),#函数\n",
    "               0,#x下界0\n",
    "               tao)\n",
    "    return jf\n",
    "def int_3(w,b,u,tao):\n",
    "    jf,err = dblquad(lambda y,x:np.sin(w*(x-y))*np.sin(b*np.sin(u*x))*sin(b*np.sin(u*y)),#函数\n",
    "                  0,#t2下界0\n",
    "                  tao,#t2上界tao\n",
    "                  lambda x:0,#t1下界0\n",
    "                  lambda x:x)#t1上界x\n",
    "    return jf\n",
    "int_1(1,2,3,4)"
   ]
  },
  {
   "cell_type": "code",
   "execution_count": 614,
   "metadata": {},
   "outputs": [],
   "source": [
    "from scipy import integrate\n",
    "import math\n",
    "import numpy as np\n",
    "\n",
    "options={'limit':300}\n",
    "\n",
    "def integrand(t1, t2, tao, beta, u, w):\n",
    "        return math.sin(w*(t1-t2))*math.sin(beta*math.sin(u*t1))*math.sin(beta*math.sin(u*t2))\n",
    "\n",
    "def bounds_t1(tao, beta, u, w):\n",
    "        return [0, tao]\n",
    "def bounds_t2(t1 ,tao ,beta, u, w):\n",
    "        return [0, t1]\n",
    "\n",
    "def int_4(tao, beta, u, w):\n",
    "    result = integrate.nquad(integrand, [bounds_t2, bounds_t1], args=(tao ,beta, u, w), opts=[options,options])\n",
    "    return(-result[0])\n"
   ]
  },
  {
   "cell_type": "markdown",
   "metadata": {},
   "source": [
    "## Coupling"
   ]
  },
  {
   "cell_type": "code",
   "execution_count": 235,
   "metadata": {},
   "outputs": [],
   "source": [
    "def Coupling(n,n1,n2,b,w1,w2): #n1,n2 为加上激光的离子，n为离子总数,返回耦合系数，解出的频率本征值，频率本征态\n",
    "    g = np.zeros((2,n))\n",
    "    b1 = w1/(2*np.pi*1e5)\n",
    "    b2 = w2/(2*np.pi*1e5)\n",
    "    F = Frequence_rr(n,n1,n2,b,b1,b2)\n",
    "    w_r = np.sqrt(F[0])*2*np.pi*1e5 \n",
    "    b_r = F[1].T\n",
    "    for i in range(0,n): ##第i个模式与第n1,n2个离子耦合\n",
    "        g[0][i] = c_lamb * b_r[i][n1] / np.sqrt(w_r[i])\n",
    "        g[1][i] = c_lamb * b_r[i][n2] / np.sqrt(w_r[i])\n",
    "    return g,w_r,b_r"
   ]
  },
  {
   "cell_type": "code",
   "execution_count": 251,
   "metadata": {},
   "outputs": [
    {
     "name": "stdout",
     "output_type": "stream",
     "text": [
      "[1.96970689 2.71462492 3.25638926 3.68454384 4.03414195 5.\n",
      " 4.89897949 4.75178246 4.32280393 4.56028474]\n",
      "[-0.06007199  0.01044031 -0.01039343  0.00960678 -0.00317512  0.00680565\n",
      " -0.00017758  0.00749613  0.00850255 -0.0009414 ]\n"
     ]
    }
   ],
   "source": [
    "print(Coupling(10,4,5,5,0*6e6,0*4e6)[1]/(2*np.pi*1e5))\n",
    "print(Coupling(10,4,5,5,0*6e6,0*4e6)[0][0]*Coupling(10,4,5,5,0*6e6,0*4e6)[0][1])"
   ]
  },
  {
   "cell_type": "code",
   "execution_count": 353,
   "metadata": {},
   "outputs": [
    {
     "name": "stdout",
     "output_type": "stream",
     "text": [
      "[[ 8.23934555e-02 -5.69963032e-04 -2.90472528e-04 -3.59395545e-04\n",
      "   1.29619048e-04 -7.90680405e-05 -2.16830100e-04 -1.54062599e-04\n",
      "   2.91442831e-04  2.24916325e-04]\n",
      " [ 5.09981068e-04  9.20559746e-02  4.68525684e-04 -5.49418236e-04\n",
      "   2.02814512e-04  1.24226703e-04 -3.37739625e-04  2.43481773e-04\n",
      "   4.50583540e-04 -3.58470035e-04]]\n"
     ]
    }
   ],
   "source": [
    "print(Coupling(10,4,5,5,50*w_0,40*w_0)[0])"
   ]
  },
  {
   "cell_type": "code",
   "execution_count": 656,
   "metadata": {},
   "outputs": [
    {
     "data": {
      "text/plain": [
       "Text(0.5, 0, '$\\\\omega_{optic}\\\\ (MHz)$')"
      ]
     },
     "execution_count": 656,
     "metadata": {},
     "output_type": "execute_result"
    },
    {
     "data": {
      "image/png": "[encoded data removed]",
      "text/plain": [
       "<Figure size 576x576 with 2 Axes>"
      ]
     },
     "metadata": {},
     "output_type": "display_data"
    }
   ],
   "source": [
    "I = np.linspace(5,15,100)\n",
    "x = np.zeros(100)\n",
    "cou = np.zeros(100)\n",
    "for i,ii in enumerate(I):\n",
    "    x[i] = (Coupling(10,4,5,5,10e6,ii*1e6)[1][0]-Coupling(10,4,5,5,10e6,ii*1e6)[1][1])/max(Coupling(10,4,5,5,10e6,ii*1e6)[1][0],Coupling(10,4,5,5,10e6,ii*1e6)[1][1])\n",
    "    cou[i] = (Coupling(10,4,5,5,10e6,ii*1e6)[0][0]*Coupling(10,4,5,5,10e6,ii*1e6)[0][1])[0]\n",
    "\n",
    "plt.figure(figsize=(8,8))\n",
    "plt.subplot(211)\n",
    "plt.plot(I,x)\n",
    "plt.xlabel('$\\omega_{optic}\\ (MHz)$')\n",
    "plt.ylabel('$\\chi $')\n",
    "\n",
    "plt.subplot(212)\n",
    "plt.plot(I,cou)\n",
    "plt.xlabel('$\\omega_{optic}\\ (MHz)$')\n",
    "\n",
    "\n",
    "    "
   ]
  },
  {
   "cell_type": "code",
   "execution_count": 655,
   "metadata": {},
   "outputs": [
    {
     "data": {
      "text/plain": [
       "array([[ 0.24509587, -0.10217785,  0.10194818, -0.09801416, -0.05634819,\n",
       "         0.08249634, -0.01332605, -0.08658018, -0.09220926,  0.03068223],\n",
       "       [-0.24509587, -0.10217785, -0.10194818, -0.09801416,  0.05634819,\n",
       "         0.08249634,  0.01332605, -0.08658018, -0.09220926, -0.03068223]])"
      ]
     },
     "execution_count": 655,
     "metadata": {},
     "output_type": "execute_result"
    }
   ],
   "source": [
    "Coupling(10,4,5,5,0*1e6,0*1e6)[0]"
   ]
  },
  {
   "cell_type": "markdown",
   "metadata": {},
   "source": [
    "### 两离子近似"
   ]
  },
  {
   "cell_type": "code",
   "execution_count": 95,
   "metadata": {},
   "outputs": [],
   "source": [
    "# 求解径向频率分布\n",
    "def F_rr(n,m1,m2,b,w1,w2):  # b为w_r/w_z\n",
    "    A_r = np.zeros((n,n))  #展开矩阵\n",
    "    A = np.zeros((2,2))\n",
    "    g = np.zeros((2,2))\n",
    "    b1 = w1/(2*np.pi*1e5)\n",
    "    b2 = w2/(2*np.pi*1e5)\n",
    "    u = fsolve(position, np.linspace(0,n-1,n))\n",
    "    for i in range(0,n):\n",
    "        for j in range(0,n):\n",
    "            if i != j:\n",
    "                A_r[i][j] = 1/abs(u[i]-u[j])**3\n",
    "                A_r[i][i] = A_r[i][i] - 1/abs(u[i]-u[j])**3\n",
    "        A_r[i][i] = A_r[i][i] + b**2\n",
    "    A_r[m1][m1] = A_r[m1][m1] + b1**2 \n",
    "    A_r[m2][m2] = A_r[m2][m2] + b2**2 \n",
    "    A[0][0] = A_r[m1][m1]\n",
    "    A[1][1] = A_r[m2][m2]\n",
    "    A[0][1] = A_r[m1][m2]\n",
    "    A[1][0] = A_r[m2][m1]\n",
    "    a_r,b_r = np.linalg.eig(A)\n",
    "    w_r = np.sqrt(a_r)*2*np.pi*1e5\n",
    "    for i in range(0,2):\n",
    "        g[0][i] = c_lamb * b_r[0][i] / np.sqrt(w_r[i])\n",
    "        g[1][i] = c_lamb * b_r[1][i] / np.sqrt(w_r[i])\n",
    "    return g,w_r,b_r"
   ]
  },
  {
   "cell_type": "code",
   "execution_count": 96,
   "metadata": {},
   "outputs": [
    {
     "name": "stdout",
     "output_type": "stream",
     "text": [
      "[5580365.15181489 5702460.18816724 5813358.12068    5913404.1974096\n",
      " 6002803.49798509 6283185.30717959 6251690.44565659 6206675.23317271\n",
      " 6081611.67316635 6149701.02359614] [5678560.64580164 6053281.10657701]\n"
     ]
    }
   ],
   "source": [
    "print(Coupling(10,4,5,10,0,0)[1],F_rr(10,4,5,10,0,0)[1])"
   ]
  },
  {
   "cell_type": "code",
   "execution_count": 106,
   "metadata": {},
   "outputs": [
    {
     "data": {
      "text/plain": [
       "<matplotlib.legend.Legend at 0x151aa53b70>"
      ]
     },
     "execution_count": 106,
     "metadata": {},
     "output_type": "execute_result"
    },
    {
     "data": {
      "image/png": "[encoded data removed]",
      "text/plain": [
       "<Figure size 432x288 with 1 Axes>"
      ]
     },
     "metadata": {},
     "output_type": "display_data"
    }
   ],
   "source": [
    "U = np.linspace(0.1,5,100)\n",
    "g_0 = np.zeros(100)\n",
    "g_1 = np.zeros(100)\n",
    "for i,u in enumerate(U):\n",
    "    u = 2*np.pi*1e6*u\n",
    "    g_0[i] = Coupling(10,4,5,10,u,u)[0][0][0]*Coupling(10,4,5,10,u,u)[0][1][0]\n",
    "    g_1[i] = F_rr(10,4,5,10,u,u)[0][0][1]*F_rr(10,4,5,10,u,u)[0][1][1]\n",
    "\n",
    "plt.plot(U,g_0)\n",
    "plt.scatter(U,g_1,s=5,marker='o',c='red')\n",
    "plt.xlabel('$\\omega_{optic} \\ {MHz}$')\n",
    "plt.ylabel('$coupling $')\n",
    "plt.legend(('real', 'appropriate'),loc='upper right')\n"
   ]
  },
  {
   "cell_type": "code",
   "execution_count": 104,
   "metadata": {},
   "outputs": [
    {
     "data": {
      "text/plain": [
       "<matplotlib.legend.Legend at 0x151a6506d8>"
      ]
     },
     "execution_count": 104,
     "metadata": {},
     "output_type": "execute_result"
    },
    {
     "data": {
      "image/png": "[encoded data removed]",
      "text/plain": [
       "<Figure size 432x288 with 1 Axes>"
      ]
     },
     "metadata": {},
     "output_type": "display_data"
    }
   ],
   "source": [
    "U = np.linspace(0.01,5,100)\n",
    "w_0 = np.zeros(100)\n",
    "w_1 = np.zeros(100)\n",
    "w_2 = np.zeros(100)\n",
    "for i,u in enumerate(U):\n",
    "    u = 2*np.pi*1e6*u\n",
    "    w_0[i] = max(Coupling(10,4,5,5,u,u)[1])*1e-6/(2*np.pi)\n",
    "    w_1[i] = F_rr(10,4,5,5,u,u)[1][0]*1e-6/(2*np.pi)\n",
    "    w_2[i] = F_rr(10,4,5,5,u,u)[1][1]*1e-6/(2*np.pi)\n",
    "plt.loglog(U,w_0)\n",
    "plt.loglog(U,w_1,'^' )\n",
    "plt.loglog(U,w_2,'p')\n",
    "tick_locs = [0.01, 0.02, 0.05, 0.1, 0.2, 0.5, 1 ,2, 5]\n",
    "Tick_locs = [0.005, 0.01, 0.02, 0.05, 0.1, 0.2, 0.5, 1 ,2, 5]\n",
    "plt.xticks(tick_locs, tick_locs)\n",
    "plt.yticks(Tick_locs, Tick_locs)\n",
    "plt.xlabel('$\\omega_{optic} \\ {MHz}$')\n",
    "plt.ylabel('$\\omega_{eig} \\ {MHz}$')\n",
    "plt.legend(('real', 'appropriate_1','appropriate_2'),loc='upper left')\n"
   ]
  },
  {
   "cell_type": "markdown",
   "metadata": {},
   "source": [
    "### frequency tailor"
   ]
  },
  {
   "cell_type": "code",
   "execution_count": 107,
   "metadata": {},
   "outputs": [
    {
     "data": {
      "text/plain": [
       "<matplotlib.legend.Legend at 0x151ab52cc0>"
      ]
     },
     "execution_count": 107,
     "metadata": {},
     "output_type": "execute_result"
    },
    {
     "data": {
      "image/png": "[encoded data removed]",
      "text/plain": [
       "<Figure size 432x288 with 1 Axes>"
      ]
     },
     "metadata": {},
     "output_type": "display_data"
    }
   ],
   "source": [
    "U = np.linspace(0.01,5,100)\n",
    "w_0 = np.zeros((8,100))\n",
    "\n",
    "for j in range(8):\n",
    "    for i,u in enumerate(U):\n",
    "        u = u*1e6*2*np.pi\n",
    "        w_0[j][i] = Coupling(10,4,5,5,u,u)[1][j]*1e-6/(2*np.pi)\n",
    "for i in range(8):\n",
    "    plt.loglog(U,w_0[i])\n",
    "tick_locs = [0.01, 0.02, 0.05, 0.1, 0.2, 0.5, 1 ,2, 5]\n",
    "Tick_locs = [0.005, 0.01, 0.02, 0.05, 0.1, 0.2, 0.5, 1 ,2, 5]\n",
    "plt.xticks(tick_locs, tick_locs)\n",
    "plt.yticks(Tick_locs, Tick_locs)\n",
    "plt.xlabel('$\\omega_{optic} \\ {MHz}$')\n",
    "plt.ylabel('$\\omega_{eig} \\ {MHz}$')\n",
    "plt.xlim(0.01,5)\n",
    "plt.ylim(0.05,5)\n",
    "plt.legend(('1','2','3','4','5','6','7','8'),fontsize=6)\n"
   ]
  },
  {
   "cell_type": "markdown",
   "metadata": {},
   "source": [
    "## Displacement"
   ]
  },
  {
   "cell_type": "code",
   "execution_count": 423,
   "metadata": {},
   "outputs": [],
   "source": [
    "def Displacement(g,w_r,beta,u,tao): # tao为门时间，u为激光之间失谐, 返回失谐模平方\n",
    "    n = len(w_r)\n",
    "    a = np.zeros((2,n))\n",
    "    for k in range(0,n):\n",
    "        jf1 = int_1(w_r[k],beta,u,tao)\n",
    "        jf2 = int_2(w_r[k],beta,u,tao)\n",
    "        a[0][k] = g[0][k]**2 * (jf1**2 + jf2**2)\n",
    "        a[1][k] = g[1][k]**2 * (jf1**2 + jf2**2)\n",
    "    return a"
   ]
  },
  {
   "cell_type": "markdown",
   "metadata": {},
   "source": [
    "## Phi"
   ]
  },
  {
   "cell_type": "code",
   "execution_count": 615,
   "metadata": {},
   "outputs": [],
   "source": [
    "def Phi(g,w_r,beta,u,tao):\n",
    "    n = len(w_r)\n",
    "    phi = 0\n",
    "#     w_r = w_r*1e-6\n",
    "#     u = u*1e-6\n",
    "#     tao = tao*1e6\n",
    "    for k in range(0,n):\n",
    "        jf = int_4(tao, beta, u, w_r[k])\n",
    "        phi = phi + 2*g[0][k]*g[1][k]*jf\n",
    "    return phi"
   ]
  },
  {
   "cell_type": "markdown",
   "metadata": {},
   "source": [
    "## 保真度，以及定义两个常数"
   ]
  },
  {
   "cell_type": "markdown",
   "metadata": {},
   "source": [
    "\\begin{equation}\n",
    "\\alpha_{\\xi,j}^{k}=\\frac{\\Omega_{j}g_{\\xi,j}^{k}\\left\\{ \\mu+e^{i\\omega_{\\xi,k}\\tau}[-\\mu\\cos(\\mu\\tau)+i\\omega_{\\xi,k}\\sin(\\mu\\tau)]\\right\\} }{(\\mu^{2}-\\omega_{k}^{2})},\\label{Alpha}\n",
    "\\end{equation}"
   ]
  },
  {
   "cell_type": "markdown",
   "metadata": {},
   "source": [
    "\\begin{equation}\n",
    "\\phi_{jn}^{\\xi}=2\\Omega_{j}\\Omega_{n}\\sum_{k}\\frac{g_{\\xi,j}^{k}g_{\\xi,n}^{k}}{\\mu^{2}-\\omega_{\\xi,k}^{2}}\\left\\{ \\frac{\\omega_{\\xi,k}[-2\\mu\\tau+\\sin(2\\mu\\tau)]}{4\\mu}+\\right.\n",
    "\\end{equation}\n",
    "\\begin{equation}\n",
    "\\left.\\frac{\\mu\\lbrack\\omega_{\\xi,k}\\cos(\\omega_{\\xi,k}\\tau)\\sin(\\mu\\tau)-\\mu\\cos(\\mu\\tau)\\sin(\\omega_{\\xi,k}\\tau)]}{\\mu^{2}-\\omega_{\\xi,k}^{2}}\\right\\} .\\label{Phase}\n",
    "\\end{equation}"
   ]
  },
  {
   "cell_type": "code",
   "execution_count": 331,
   "metadata": {},
   "outputs": [],
   "source": [
    "w_0 = 2*np.pi*1e5\n",
    "t_0 = 1e-6"
   ]
  },
  {
   "cell_type": "code",
   "execution_count": 616,
   "metadata": {},
   "outputs": [],
   "source": [
    "def Fied(n,n1,n2,b,w1,w2,beta,u,tao,Np): #计算严格求解的非保真度，在考虑局域势的效益下\n",
    "    C = Coupling(n,n1,n2,b,w1,w2)\n",
    "    b_r = C[2]\n",
    "    omega_1 = c_rabi*w1**2\n",
    "    omega_2 = c_rabi*w2**2 \n",
    "    D = Displacement(C[0],C[1],beta,u,tao)[0]*omega_1**2+Displacement(C[0],C[1],beta,u,tao)[1]*omega_2**2\n",
    "    P = Phi(C[0],C[1],beta,u,tao)*omega_1*omega_2\n",
    "    F = 1/3 * abs( np.sin(2*P) ) + 1/2\n",
    "    for i in range(0,n):\n",
    "        F = F + 1/(6*n) * np.exp(-8*n*(1/2+Np[i])*(b_r[i][n1]**2+b_r[i][n2]**2)*D[i])        \n",
    "    return F,P,D,Displacement(C[0],C[1],beta,u,tao)"
   ]
  },
  {
   "cell_type": "code",
   "execution_count": 617,
   "metadata": {},
   "outputs": [
    {
     "data": {
      "text/plain": [
       "(0.9336387200455727,\n",
       " -0.5609379573140749,\n",
       " array([1.23321883e+01, 1.69319521e-01, 9.25700334e-07, 1.44587649e-06,\n",
       "        1.41521613e-07, 6.05072878e-08, 1.58385278e-06, 8.43518328e-07,\n",
       "        2.67372192e-07, 1.64754181e-07]),\n",
       " array([[8.66234718e-15, 2.72664003e-19, 3.02716403e-22, 5.33183463e-22,\n",
       "         4.96013859e-23, 2.10163740e-23, 5.60746172e-22, 2.89175442e-22,\n",
       "         9.62291720e-23, 5.54061202e-23],\n",
       "        [1.16434780e-17, 2.02589204e-16, 5.93713939e-22, 8.24362184e-22,\n",
       "         8.51002826e-23, 3.67096158e-23, 9.42807790e-22, 5.18258460e-22,\n",
       "         1.56480099e-22, 1.03059034e-22]]))"
      ]
     },
     "execution_count": 617,
     "metadata": {},
     "output_type": "execute_result"
    }
   ],
   "source": [
    "Fied(10,4,5,5,16e6,14e6,0.3,16.52*1e6,9*1e-6,np.ones(10))"
   ]
  },
  {
   "cell_type": "code",
   "execution_count": 625,
   "metadata": {},
   "outputs": [
    {
     "data": {
      "text/plain": [
       "(0.9803176746371561,\n",
       " 0.7868736243192855,\n",
       " array([2.84141123e-01, 1.68439948e-03, 3.22366577e-05, 2.85572715e-05,\n",
       "        1.93513117e-06, 1.13514550e-06, 5.85016845e-05, 5.78292089e-05,\n",
       "        5.31899830e-05, 4.55845256e-05]),\n",
       " array([[2.02734495e-14, 2.00354302e-17, 2.10918106e-18, 2.78881111e-19,\n",
       "         7.31198476e-20, 3.53034663e-20, 3.36157430e-18, 9.12879043e-19,\n",
       "         2.49663134e-18, 1.07677840e-18],\n",
       "        [2.06933076e-15, 1.92955552e-16, 5.79205988e-19, 3.38106061e-18,\n",
       "         1.31281685e-19, 9.07012573e-20, 1.89203232e-18, 6.21860939e-18,\n",
       "         2.73012712e-18, 4.25742878e-18]]))"
      ]
     },
     "execution_count": 625,
     "metadata": {},
     "output_type": "execute_result"
    }
   ],
   "source": [
    "Fied(10,4,5,5,4.972e6,4.29e6,0.393,5.19*1e6,14.8*1e-6,np.ones(10))"
   ]
  },
  {
   "cell_type": "code",
   "execution_count": 644,
   "metadata": {},
   "outputs": [
    {
     "data": {
      "text/plain": [
       "(0.923844969666211,\n",
       " 0.5188539945396087,\n",
       " array([6.10330567e+00, 1.33625612e-02, 2.29864221e-05, 1.89343901e-05,\n",
       "        1.14040605e-05, 7.31391968e-06, 1.00557672e-05, 1.16902577e-05,\n",
       "        5.45230099e-06, 5.70393770e-06]),\n",
       " array([[2.30892651e-13, 3.14342388e-17, 8.19508564e-19, 3.66240202e-20,\n",
       "         2.14731643e-19, 9.66125509e-20, 3.25925152e-19, 4.52679738e-20,\n",
       "         1.41939110e-19, 4.43265399e-20],\n",
       "        [4.12688346e-15, 1.70505903e-15, 1.94721899e-19, 2.44434745e-18,\n",
       "         7.82927360e-19, 6.49175310e-19, 2.01744565e-19, 1.42810981e-18,\n",
       "         2.33810921e-19, 6.17245756e-19]]))"
      ]
     },
     "execution_count": 644,
     "metadata": {},
     "output_type": "execute_result"
    }
   ],
   "source": [
    "Fied(10,4,5,5,5.9e6,4.29e6,0.393,6.2*1e6,17*1e-6,np.ones(10))"
   ]
  },
  {
   "cell_type": "code",
   "execution_count": 914,
   "metadata": {},
   "outputs": [
    {
     "data": {
      "text/plain": [
       "     fun: 0.017665697689778548\n",
       "   maxcv: 0.0\n",
       " message: 'Optimization terminated successfully.'\n",
       "    nfev: 113\n",
       "  status: 1\n",
       " success: True\n",
       "       x: array([ 4.29853759,  0.39744327,  5.12053715, 14.95787564])"
      ]
     },
     "execution_count": 914,
     "metadata": {},
     "output_type": "execute_result"
    }
   ],
   "source": [
    "from scipy.optimize import minimize\n",
    "x0 =  np.asarray((4.29,0.4,5.1,15))\n",
    "\n",
    "res = minimize(lambda x: 1-Fied(10,4,5,5,5e6,x[0]*1e6,x[1],x[2]*1e6,x[3]*1e-6,np.ones(10))[0],x0,method='COBYLA')\n",
    "\n",
    "# print(res.fun)\n",
    "# print(res.success)\n",
    "# print(res.x)\n",
    "res\n"
   ]
  },
  {
   "cell_type": "code",
   "execution_count": 526,
   "metadata": {},
   "outputs": [
    {
     "data": {
      "image/png": "[encoded data removed]",
      "text/latex": [
       "$$0.7853981633974483$$"
      ],
      "text/plain": [
       "0.7853981633974483"
      ]
     },
     "execution_count": 526,
     "metadata": {},
     "output_type": "execute_result"
    }
   ],
   "source": [
    "np.pi/4"
   ]
  },
  {
   "cell_type": "markdown",
   "metadata": {},
   "source": [
    "## 失谐函数取为常数"
   ]
  },
  {
   "cell_type": "code",
   "execution_count": 661,
   "metadata": {},
   "outputs": [],
   "source": [
    "def INT_1_1(w,t_list,phi_list):\n",
    "    d = 0\n",
    "    n = len(t_list)-1\n",
    "    for i in range(n):\n",
    "        d = d + np.sin(phi_list[i])*(np.cos(t_list[i]*w)-np.cos(t_list[i+1]*w))/w\n",
    "    return d\n",
    "\n",
    "\n",
    "def DISPLACEMENT_1(g,w_r,t_list,phi_list): # tao为门时间，u为激光之间失谐, 返回失谐模平方\n",
    "    n = len(w_r)\n",
    "    m = len(phi_list)\n",
    "    a = np.zeros((2,n))\n",
    "    for i in range(0,n):\n",
    "        jf1 = 0\n",
    "        jf2 = 0\n",
    "        for j in range(0,m): \n",
    "            jf1 = jf1 + np.sin(phi_list[j])*(np.cos(t_list[j]*w_r[i])-np.cos(t_list[j+1]*w_r[i]))/w_r[i]\n",
    "            jf2 = jf2 + np.sin(phi_list[j])*(np.sin(t_list[j+1]*w_r[i])-np.sin(t_list[j]*w_r[i]))/w_r[i]\n",
    "        a[0][i] = g[0][i]**2 * (jf1**2 + jf2**2)\n",
    "        a[1][i] = g[1][i]**2 * (jf1**2 + jf2**2)\n",
    "    return a"
   ]
  },
  {
   "cell_type": "code",
   "execution_count": 833,
   "metadata": {},
   "outputs": [],
   "source": [
    "def PHI_1(g,w_r,t_list,phi_list):\n",
    "    n = len(w_r)\n",
    "    m = len(phi_list)\n",
    "    phi = 0\n",
    "    for i in range(0,n):\n",
    "        jf = 0\n",
    "        for j in range(0,m):\n",
    "            jf  = jf + phi_list[j]/w_r[i]**2*((t_list[j+1]-t_list[j])*w_r[i]-np.sin(t_list[j+1]*w_r[i])+np.sin(t_list[j]*w_r[i]))\n",
    "        phi = phi + 2*g[0][i]*g[1][i]*jf\n",
    "    return phi"
   ]
  },
  {
   "cell_type": "code",
   "execution_count": 931,
   "metadata": {},
   "outputs": [],
   "source": [
    "def FIED_1(n,n1,n2,b,para,tao,Np): #计算严格求解的非保真度，在考虑局域势的效益下\n",
    "    w1 = para[0]*1e6\n",
    "    w2 = para[1]*1e6\n",
    "#     t_list = [0,para[2]*1e-6,para[3]*1e-6,para[4]*1e-6,para[5]*1e-6,tao]\n",
    "    t_list = (np.array(np.concatenate(([0],para[2:6],[tao])))*1e-6).tolist()\n",
    "    phi_list = para[6:11]\n",
    "    C = Coupling(n,n1,n2,b,w1,w2)\n",
    "    b_r = C[2]\n",
    "    omega_1 = c_rabi*w1**2\n",
    "    omega_2 = c_rabi*w2**2 \n",
    "    D = DISPLACEMENT_1(C[0],C[1],t_list,phi_list)[0]*omega_1**2+DISPLACEMENT_1(C[0],C[1],t_list,phi_list)[1]*omega_2**2\n",
    "    P = PHI_1(C[0],C[1],t_list,phi_list)*omega_1*omega_2\n",
    "    F = 1/3 * abs(np.sin(2*P)) + 1/2\n",
    "    for i in range(0,n):\n",
    "          F = F + 1/(6*n) * np.exp(-8*n*(1/2+Np[i])*(b_r[i][n1]**2+b_r[i][n2]**2)*D[i])    \n",
    "#         F = F + 4/3 * (1/2 + Np[i])*(b_r[i][n1]**2+b_r[i][n2]**2) * D[i]\n",
    "    return F,P,D"
   ]
  },
  {
   "cell_type": "code",
   "execution_count": 1054,
   "metadata": {},
   "outputs": [
    {
     "name": "stdout",
     "output_type": "stream",
     "text": [
      "False\n",
      "[9.62569329 9.62550039 0.75662261 1.70133423 2.65252619 6.60685806\n",
      " 0.76867686 2.82033653 2.49353438 5.96614557 5.90489703]\n",
      "-0.7853977119134194 [3.75775075e-13 2.33235420e-13 1.04507531e-05 2.49690201e-05\n",
      " 1.17349685e-04 4.79418737e-05 3.67584657e-04 2.13457340e-04\n",
      " 8.34168854e-05 4.57415356e-05]\n",
      "0.9999997812343983\n"
     ]
    }
   ],
   "source": [
    "fre = [9,9] # w (MHz)\n",
    "t_list = [0.75,2,3,7] # us\n",
    "phi_list = [1,2,2.5,6.2,7]\n",
    "x0 =  np.asarray((np.concatenate((fre,t_list,phi_list))))\n",
    "\n",
    "res = minimize(lambda x: 1-FIED_1(10,4,5,5,x,11,np.ones(10))[0],x0,tol=1e-7)\n",
    "print(res.success)\n",
    "print(res.x)\n",
    "\n",
    "print(FIED_1(10,4,5,5,res.x,11,np.ones(10))[1],FIED_1(10,4,5,5,res.x,11,np.ones(10))[2])\n",
    "print(FIED_1(10,4,5,5,res.x,11,np.ones(10))[0])"
   ]
  },
  {
   "cell_type": "code",
   "execution_count": 1055,
   "metadata": {},
   "outputs": [
    {
     "name": "stdout",
     "output_type": "stream",
     "text": [
      "False\n",
      "[10.28539134 10.20746638  1.46520561  2.31774437  2.65952059  7.38348654\n",
      "  0.33427611  2.45194111  2.86929383  6.30398846  6.54906259]\n",
      "-0.7853979748448175 [1.44066056e-05 5.41630470e-05 8.85873630e-05 1.16153812e-04\n",
      " 1.24560773e-05 5.47209034e-06 1.04099991e-04 5.65352808e-05\n",
      " 1.17716779e-04 7.73033318e-05]\n",
      "0.9998631304629303\n"
     ]
    }
   ],
   "source": [
    "fre = [9,9] # w (MHz)\n",
    "t_list = [0.75,2,3,7] # us\n",
    "phi_list = [1,2,2.5,6.2,7]\n",
    "x0 =  np.asarray((np.concatenate((fre,t_list,phi_list))))\n",
    "\n",
    "res = minimize(lambda x: np.abs(np.cos(2*FIED_1(10,4,5,5,x,11,np.ones(10))[1]))+sum(FIED_1(10,4,5,5,x,11,np.ones(10))[2]),x0,tol=1e-7)\n",
    "print(res.success)\n",
    "print(res.x)\n",
    "\n",
    "print(FIED_1(10,4,5,5,res.x,11,np.ones(10))[1],FIED_1(10,4,5,5,res.x,11,np.ones(10))[2])\n",
    "print(FIED_1(10,4,5,5,res.x,11,np.ones(10))[0])"
   ]
  },
  {
   "cell_type": "code",
   "execution_count": 1057,
   "metadata": {},
   "outputs": [
    {
     "name": "stdout",
     "output_type": "stream",
     "text": [
      "[10.28539134 10.20746638  1.46520561  2.31774437  2.65952059  7.38348654\n",
      "  0.33427611  2.45194111  2.86929383  6.30398846  6.54906259]\n"
     ]
    }
   ],
   "source": [
    "solve = res.x \n",
    "print(solve)"
   ]
  },
  {
   "cell_type": "code",
   "execution_count": 1073,
   "metadata": {},
   "outputs": [
    {
     "data": {
      "image/png": "[encoded data removed]",
      "text/latex": [
       "$$0.9998574688385621$$"
      ],
      "text/plain": [
       "0.9998574688385621"
      ]
     },
     "execution_count": 1073,
     "metadata": {},
     "output_type": "execute_result"
    }
   ],
   "source": [
    "result = [10.285,10.207,1.465,2.317,2.660,7.383,0.334,2.452,2.869,6.304,6.549]\n",
    "#result = [round(i,3) for i in res.x]\n",
    "FIED_1(10,4,5,5,result,11,np.ones(10))[0]\n",
    "# result = res.x\n",
    "# result[0] = res.x[0]+3/1e3\n",
    "# FIED_1(10,4,5,5,result,11,np.ones(10))[0]\n",
    "\n",
    "# para = solve.copy()\n",
    "# para[0] = para[0]  \n",
    "# FIED_1(10,4,5,5,para,11,np.ones(10))[0]\n"
   ]
  },
  {
   "cell_type": "code",
   "execution_count": 1092,
   "metadata": {},
   "outputs": [
    {
     "data": {
      "text/plain": [
       "Text(0, 0.5, 'gate error $10^{-3}$')"
      ]
     },
     "execution_count": 1092,
     "metadata": {},
     "output_type": "execute_result"
    },
    {
     "data": {
      "image/png": "[encoded data removed]",
      "text/plain": [
       "<Figure size 432x288 with 1 Axes>"
      ]
     },
     "metadata": {},
     "output_type": "display_data"
    }
   ],
   "source": [
    "U = np.linspace(-3,3,101) #KHz\n",
    "fie = np.zeros(101)\n",
    "for i,u in enumerate(U):\n",
    "    u = u/1e2\n",
    "    para = solve.copy()\n",
    "    para[0] = para[0] + u\n",
    "    fie[i] = 1-FIED_1(10,4,5,5,para,11,np.ones(10))[0]\n",
    "plt.plot(U,[f*1e3 for f in fie])\n",
    "plt.xlabel('detuning (10KHz)')\n",
    "plt.ylabel('gate error $10^{-3}$')\n",
    "# tick_locs = [0.01, 0.02, 0.05, 0.1, 0.2, 0.5, 1 ,2, 5]\n",
    "# Tick_locs = [0.005, 0.01, 0.02, 0.05, 0.1, 0.2, 0.5, 1 ,2, 5]\n",
    "# plt.xticks(tick_locs, tick_locs)"
   ]
  },
  {
   "cell_type": "code",
   "execution_count": 1083,
   "metadata": {},
   "outputs": [
    {
     "data": {
      "text/plain": [
       "<matplotlib.legend.Legend at 0x151e035d68>"
      ]
     },
     "execution_count": 1083,
     "metadata": {},
     "output_type": "execute_result"
    },
    {
     "data": {
      "image/png": "[encoded data removed]",
      "text/plain": [
       "<Figure size 360x1080 with 3 Axes>"
      ]
     },
     "metadata": {},
     "output_type": "display_data"
    }
   ],
   "source": [
    "U = np.linspace(3,15,100)\n",
    "w_0 = np.zeros((4,100))\n",
    "\n",
    "\n",
    "for i,u in enumerate(U):\n",
    "    u = u*1e6\n",
    "    w_0[0][i] = Coupling(10,4,5,5,u,u)[1][0]\n",
    "    w_0[1][i] = Coupling(10,4,5,5,u,u)[1][1]\n",
    "    w_0[2][i] = (Coupling(10,4,5,5,u,u)[1][0] - Coupling(10,4,5,5,u,u)[1][1])/Coupling(10,4,5,5,u,u)[1][0]\n",
    "    w_0[3][i] = (Coupling(10,4,5,5,u,u)[0][0]*Coupling(10,4,5,5,u,u)[0][1])[0]\n",
    "\n",
    "plt.figure(figsize=(5,15))\n",
    "plt.subplot(311)        \n",
    "for i in range(2):\n",
    "    plt.loglog(U,w_0[i])\n",
    "\n",
    "plt.subplot(312)        \n",
    "plt.plot(U,w_0[2])\n",
    "\n",
    "plt.subplot(313)        \n",
    "plt.plot(U,w_0[3])\n",
    "\n",
    "# tick_locs = [1 ,2, 4, 8]\n",
    "# Tick_locs = [1 ,2, 4, 8]\n",
    "# plt.xticks(tick_locs, tick_locs)\n",
    "# plt.yticks(Tick_locs, Tick_locs)\n",
    "# plt.xlabel('$\\omega_{optic} \\ {MHz}$')\n",
    "# plt.ylabel('$\\omega_{eig} \\ {MHz}$')\n",
    "# plt.xlim(1,10)\n",
    "# plt.ylim(1,10)\n",
    "plt.legend(('1','2','3','4','5','6','7','8'),fontsize=10)\n"
   ]
  },
  {
   "cell_type": "code",
   "execution_count": 1085,
   "metadata": {},
   "outputs": [
    {
     "data": {
      "image/png": "[encoded data removed]",
      "text/latex": [
       "$$0.005842023971910353$$"
      ],
      "text/plain": [
       "0.005842023971910353"
      ]
     },
     "execution_count": 1085,
     "metadata": {},
     "output_type": "execute_result"
    }
   ],
   "source": [
    "(((solve[0]*1e6+3e4)/c_optic)**2-(solve[0]*1e6/c_optic)**2)/(solve[0]*1e6/c_optic)**2"
   ]
  },
  {
   "cell_type": "code",
   "execution_count": 1207,
   "metadata": {},
   "outputs": [
    {
     "name": "stdout",
     "output_type": "stream",
     "text": [
      "False\n",
      "[17.12288802 17.12286177  1.79393063  0.9092626   2.09247293  3.01751903\n",
      "  3.14159248  3.1415915   3.14159117  6.28318646  9.42477714]\n",
      "-0.7853981553106324 [3.97315090e-16 3.64269884e-16 3.50495648e-15 4.84171772e-15\n",
      " 2.42103491e-17 8.91309691e-18 1.23027639e-17 5.64256242e-18\n",
      " 7.38495436e-17 5.05937011e-17]\n",
      "0.9999999999999988\n"
     ]
    }
   ],
   "source": [
    "fre = [17,17] # w (MHz)\n",
    "t_list = [0.8,0.9,1.8,3.1] # us\n",
    "phi_list = [3.8,1.98,3.29,5.17,10.38]\n",
    "x0 =  np.asarray((np.concatenate((fre,t_list,phi_list))))\n",
    "\n",
    "res = minimize(lambda x: np.abs(np.cos(2*FIED_1(10,4,5,5,x,4,np.ones(10))[1]))**2+sum(FIED_1(10,4,5,5,x,4,np.ones(10))[2]),x0,tol=1e-7)\n",
    "print(res.success)\n",
    "print(res.x)\n",
    "\n",
    "print(FIED_1(10,4,5,5,res.x,4,np.ones(10))[1],FIED_1(10,4,5,5,res.x,4,np.ones(10))[2])\n",
    "print(FIED_1(10,4,5,5,res.x,4,np.ones(10))[0])"
   ]
  },
  {
   "cell_type": "code",
   "execution_count": 1208,
   "metadata": {},
   "outputs": [
    {
     "name": "stdout",
     "output_type": "stream",
     "text": [
      "[17.12288802 17.12286177  1.79393063  0.9092626   2.09247293  3.01751903\n",
      "  3.14159248  3.1415915   3.14159117  6.28318646  9.42477714]\n"
     ]
    }
   ],
   "source": [
    "solve = res.x \n",
    "print(solve)"
   ]
  },
  {
   "cell_type": "code",
   "execution_count": 1217,
   "metadata": {},
   "outputs": [
    {
     "data": {
      "text/plain": [
       "Text(0, 0.5, 'gate error $10^{-3}$')"
      ]
     },
     "execution_count": 1217,
     "metadata": {},
     "output_type": "execute_result"
    },
    {
     "data": {
      "image/png": "[encoded data removed]",
      "text/plain": [
       "<Figure size 432x288 with 1 Axes>"
      ]
     },
     "metadata": {},
     "output_type": "display_data"
    }
   ],
   "source": [
    "U = np.linspace(-3,3,101) #10KHz\n",
    "fie = np.zeros(101)\n",
    "for i,u in enumerate(U):\n",
    "    u = u/1e1\n",
    "    para = solve.copy()\n",
    "    para[0] = para[0] + u\n",
    "    fie[i] = 1-FIED_1(10,4,5,5,para,4,np.ones(10))[0]\n",
    "plt.plot(U,[f*1e3 for f in fie])\n",
    "plt.xlabel('detuning (10KHz)')\n",
    "plt.ylabel('gate error $10^{-3}$')\n"
   ]
  },
  {
   "cell_type": "code",
   "execution_count": 1116,
   "metadata": {},
   "outputs": [
    {
     "data": {
      "image/png": "[encoded data removed]",
      "text/latex": [
       "$$0.03534778257565074$$"
      ],
      "text/plain": [
       "0.03534778257565074"
      ]
     },
     "execution_count": 1116,
     "metadata": {},
     "output_type": "execute_result"
    }
   ],
   "source": [
    "(((solve[0]*1e6+3e5)/c_optic)**2-(solve[0]*1e6/c_optic)**2)/(solve[0]*1e6/c_optic)**2"
   ]
  },
  {
   "cell_type": "markdown",
   "metadata": {},
   "source": [
    "## 考虑对称的情况"
   ]
  },
  {
   "cell_type": "code",
   "execution_count": 1174,
   "metadata": {},
   "outputs": [],
   "source": [
    "def FIED_2(n,n1,n2,b,para,Np): #计算严格求解的非保真度，在考虑局域势的效益下\n",
    "    w1 = para[0]*1e6\n",
    "    w2 = para[1]*1e6\n",
    "#     t_list = [0,para[2]*1e-6,para[3]*1e-6,para[4]*1e-6,para[5]*1e-6,tao]\n",
    "    t_list = (np.array([0,para[2],para[2]+para[3],para[2]+para[3]+para[4],para[2]+para[3]*2+para[4],para[2]+para[3]*2+para[4]*2])*1e-6).tolist()\n",
    "    phi_list = (np.array(np.concatenate((para[5:],para[-2:-4:-1])))).tolist()\n",
    "    C = Coupling(n,n1,n2,b,w1,w2)\n",
    "    b_r = C[2]\n",
    "    omega_1 = c_rabi*w1**2\n",
    "    omega_2 = c_rabi*w2**2 \n",
    "    D = DISPLACEMENT_1(C[0],C[1],t_list,phi_list)[0]*omega_1**2+DISPLACEMENT_1(C[0],C[1],t_list,phi_list)[1]*omega_2**2\n",
    "    P = PHI_1(C[0],C[1],t_list,phi_list)*omega_1*omega_2\n",
    "    F = 1/3 * abs(np.sin(2*P)) + 1/2\n",
    "    for i in range(0,n):\n",
    "          F = F + 1/(6*n) * np.exp(-8*n*(1/2+Np[i])*(b_r[i][n1]**2+b_r[i][n2]**2)*D[i])    \n",
    "#         F = F + 4/3 * (1/2 + Np[i])*(b_r[i][n1]**2+b_r[i][n2]**2) * D[i]\n",
    "    return F,P,D,t_list,phi_list"
   ]
  },
  {
   "cell_type": "code",
   "execution_count": 1180,
   "metadata": {},
   "outputs": [
    {
     "name": "stdout",
     "output_type": "stream",
     "text": [
      "False\n",
      "[15.97114785 15.88710521  0.4308108   2.07158116  2.84899078  3.14196448\n",
      "  4.34000236  5.21055448]\n",
      "-0.7853966811467614 [1.22025017e-12 6.47774586e-13 4.13154698e-04 7.73311517e-04\n",
      " 4.55037836e-05 1.92884953e-05 8.95907334e-04 4.76576166e-04\n",
      " 2.18164032e-03 1.60080937e-03]\n",
      "0.999999697732093\n"
     ]
    }
   ],
   "source": [
    "fre = [15,15] # w (MHz)\n",
    "t_list = [0.75,2,3] # us\n",
    "phi_list = [1,2,3]\n",
    "x0 =  np.asarray((np.concatenate((fre,t_list,phi_list))))\n",
    "\n",
    "res = minimize(lambda x: 1-FIED_2(10,4,5,5,x,np.ones(10))[0],x0,tol=1e-7)\n",
    "print(res.success)\n",
    "print(res.x)\n",
    "\n",
    "print(FIED_2(10,4,5,5,res.x,np.ones(10))[1],FIED_2(10,4,5,5,res.x,np.ones(10))[2])\n",
    "print(FIED_2(10,4,5,5,res.x,np.ones(10))[0])"
   ]
  },
  {
   "cell_type": "code",
   "execution_count": 1181,
   "metadata": {},
   "outputs": [
    {
     "name": "stdout",
     "output_type": "stream",
     "text": [
      "[15.97114785 15.88710521  0.4308108   2.07158116  2.84899078  3.14196448\n",
      "  4.34000236  5.21055448]\n"
     ]
    }
   ],
   "source": [
    "solve = res.x \n",
    "print(solve)"
   ]
  },
  {
   "cell_type": "code",
   "execution_count": 1185,
   "metadata": {},
   "outputs": [
    {
     "data": {
      "text/plain": [
       "Text(0, 0.5, 'gate error $10^{-3}$')"
      ]
     },
     "execution_count": 1185,
     "metadata": {},
     "output_type": "execute_result"
    },
    {
     "data": {
      "image/png": "[encoded data removed]",
      "text/plain": [
       "<Figure size 432x288 with 1 Axes>"
      ]
     },
     "metadata": {},
     "output_type": "display_data"
    }
   ],
   "source": [
    "U = np.linspace(-3,3,101) #10KHz\n",
    "fie = np.zeros(101)\n",
    "for i,u in enumerate(U):\n",
    "    u = u/1e2\n",
    "    para = solve.copy()\n",
    "    para[0] = para[0] + u\n",
    "    fie[i] = 1-FIED_2(10,4,5,5,para,np.ones(10))[0]\n",
    "plt.plot(U,[f*1e3 for f in fie])\n",
    "plt.xlabel('detuning (10KHz)')\n",
    "plt.ylabel('gate error $10^{-3}$')"
   ]
  },
  {
   "cell_type": "code",
   "execution_count": 1187,
   "metadata": {},
   "outputs": [
    {
     "name": "stdout",
     "output_type": "stream",
     "text": [
      "True\n",
      "[12.94190331 12.94152594  0.09870698  1.64565692  3.08457374  3.14159383\n",
      "  3.14159432  3.14159497]\n",
      "-0.7853981456799448 [2.38012254e-14 1.77872977e-14 8.44607389e-16 1.01293996e-15\n",
      " 1.00350719e-15 4.06819540e-16 4.28154141e-15 2.35502153e-15\n",
      " 2.49313687e-14 1.56203883e-14]\n",
      "0.9999999999999167\n"
     ]
    }
   ],
   "source": [
    "fre = [15,15] # w (MHz)\n",
    "t_list = [0.75,2,3] # us\n",
    "phi_list = [1,2,3]\n",
    "x0 =  np.asarray((np.concatenate((fre,t_list,phi_list))))\n",
    "\n",
    "res = minimize(lambda x: np.abs(np.cos(2*FIED_2(10,4,5,5,x,np.ones(10))[1]))**2+sum(FIED_2(10,4,5,5,x,np.ones(10))[2]),x0,tol=1e-7)\n",
    "print(res.success)\n",
    "print(res.x)\n",
    "\n",
    "print(FIED_2(10,4,5,5,res.x,np.ones(10))[1],FIED_2(10,4,5,5,res.x,np.ones(10))[2])\n",
    "print(FIED_2(10,4,5,5,res.x,np.ones(10))[0])"
   ]
  },
  {
   "cell_type": "code",
   "execution_count": 1205,
   "metadata": {},
   "outputs": [
    {
     "name": "stdout",
     "output_type": "stream",
     "text": [
      "[12.94190331 12.94152594  0.09870698  1.64565692  3.08457374  3.14159383\n",
      "  3.14159432  3.14159497]\n"
     ]
    },
    {
     "data": {
      "image/png": "[encoded data removed]",
      "text/latex": [
       "$$0.009293699952139332$$"
      ],
      "text/plain": [
       "0.009293699952139332"
      ]
     },
     "execution_count": 1205,
     "metadata": {},
     "output_type": "execute_result"
    }
   ],
   "source": [
    "solve = res.x \n",
    "print(solve)\n",
    "(((solve[0]*1e6+3e6/50)/c_optic)**2-(solve[0]*1e6/c_optic)**2)/(solve[0]*1e6/c_optic)**2"
   ]
  },
  {
   "cell_type": "code",
   "execution_count": 1204,
   "metadata": {},
   "outputs": [
    {
     "data": {
      "text/plain": [
       "Text(0, 0.5, 'gate error $10^{-4}$')"
      ]
     },
     "execution_count": 1204,
     "metadata": {},
     "output_type": "execute_result"
    },
    {
     "data": {
      "image/png": "[encoded data removed]",
      "text/plain": [
       "<Figure size 432x288 with 1 Axes>"
      ]
     },
     "metadata": {},
     "output_type": "display_data"
    }
   ],
   "source": [
    "U = np.linspace(-3,3,101) \n",
    "fie = np.zeros(101)\n",
    "for i,u in enumerate(U):\n",
    "    u = u/50\n",
    "    para = solve.copy()\n",
    "    para[0] = para[0] + u\n",
    "    fie[i] = 1-FIED_2(10,4,5,5,para,np.ones(10))[0]\n",
    "plt.plot(U,[f*1e4 for f in fie])\n",
    "plt.xlabel('detuning (100KHz)')\n",
    "plt.ylabel('gate error $10^{-4}$')\n",
    "\n",
    "\n"
   ]
  },
  {
   "cell_type": "markdown",
   "metadata": {},
   "source": [
    "## 计入失谐的情况"
   ]
  },
  {
   "cell_type": "code",
   "execution_count": null,
   "metadata": {},
   "outputs": [],
   "source": []
  },
  {
   "cell_type": "code",
   "execution_count": 1063,
   "metadata": {},
   "outputs": [
    {
     "data": {
      "image/png": "[encoded data removed]",
      "text/latex": [
       "$$\\left [ 1, \\quad 0\\right ]$$"
      ],
      "text/plain": [
       "[1, 0]"
      ]
     },
     "execution_count": 1063,
     "metadata": {},
     "output_type": "execute_result"
    }
   ],
   "source": [
    "a = [1,0]\n",
    "b=np.zeros(2)\n",
    "b[0] = a[0]\n",
    "b[1] = a[1]\n",
    "b[1]=1\n",
    "a"
   ]
  },
  {
   "cell_type": "code",
   "execution_count": null,
   "metadata": {},
   "outputs": [],
   "source": []
  }
 ],
 "metadata": {
  "kernelspec": {
   "display_name": "Python 3",
   "language": "python",
   "name": "python3"
  },
  "language_info": {
   "codemirror_mode": {
    "name": "ipython",
    "version": 3
   },
   "file_extension": ".py",
   "mimetype": "text/x-python",
   "name": "python",
   "nbconvert_exporter": "python",
   "pygments_lexer": "ipython3",
   "version": "3.6.8"
  },
  "toc": {
   "base_numbering": 1,
   "nav_menu": {},
   "number_sections": true,
   "sideBar": true,
   "skip_h1_title": false,
   "title_cell": "Table of Contents",
   "title_sidebar": "Contents",
   "toc_cell": false,
   "toc_position": {
    "height": "calc(100% - 180px)",
    "left": "10px",
    "top": "150px",
    "width": "238px"
   },
   "toc_section_display": true,
   "toc_window_display": true
  }
 },
 "nbformat": 4,
 "nbformat_minor": 2
}
